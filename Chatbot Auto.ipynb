{
 "cells": [
  {
   "cell_type": "markdown",
   "metadata": {},
   "source": [
    "## Libraries to install\n",
    "1) chatterbot   2) chatterbot_corpus"
   ]
  },
  {
   "cell_type": "markdown",
   "metadata": {},
   "source": [
    "## Import the libraries\n",
    "We will import the libraries as we need them and get the necessary modules.\n",
    "\n",
    "First, we will import the chatterbot and get the ChatBot class"
   ]
  },
  {
   "cell_type": "code",
   "execution_count": 1,
   "metadata": {},
   "outputs": [
    {
     "name": "stderr",
     "output_type": "stream",
     "text": [
      "C:\\Users\\Adekunle\\Anaconda3\\lib\\site-packages\\tensorflow\\python\\framework\\dtypes.py:526: FutureWarning: Passing (type, 1) or '1type' as a synonym of type is deprecated; in a future version of numpy, it will be understood as (type, (1,)) / '(1,)type'.\n",
      "  _np_qint8 = np.dtype([(\"qint8\", np.int8, 1)])\n",
      "C:\\Users\\Adekunle\\Anaconda3\\lib\\site-packages\\tensorflow\\python\\framework\\dtypes.py:527: FutureWarning: Passing (type, 1) or '1type' as a synonym of type is deprecated; in a future version of numpy, it will be understood as (type, (1,)) / '(1,)type'.\n",
      "  _np_quint8 = np.dtype([(\"quint8\", np.uint8, 1)])\n",
      "C:\\Users\\Adekunle\\Anaconda3\\lib\\site-packages\\tensorflow\\python\\framework\\dtypes.py:528: FutureWarning: Passing (type, 1) or '1type' as a synonym of type is deprecated; in a future version of numpy, it will be understood as (type, (1,)) / '(1,)type'.\n",
      "  _np_qint16 = np.dtype([(\"qint16\", np.int16, 1)])\n",
      "C:\\Users\\Adekunle\\Anaconda3\\lib\\site-packages\\tensorflow\\python\\framework\\dtypes.py:529: FutureWarning: Passing (type, 1) or '1type' as a synonym of type is deprecated; in a future version of numpy, it will be understood as (type, (1,)) / '(1,)type'.\n",
      "  _np_quint16 = np.dtype([(\"quint16\", np.uint16, 1)])\n",
      "C:\\Users\\Adekunle\\Anaconda3\\lib\\site-packages\\tensorflow\\python\\framework\\dtypes.py:530: FutureWarning: Passing (type, 1) or '1type' as a synonym of type is deprecated; in a future version of numpy, it will be understood as (type, (1,)) / '(1,)type'.\n",
      "  _np_qint32 = np.dtype([(\"qint32\", np.int32, 1)])\n",
      "C:\\Users\\Adekunle\\Anaconda3\\lib\\site-packages\\tensorflow\\python\\framework\\dtypes.py:535: FutureWarning: Passing (type, 1) or '1type' as a synonym of type is deprecated; in a future version of numpy, it will be understood as (type, (1,)) / '(1,)type'.\n",
      "  np_resource = np.dtype([(\"resource\", np.ubyte, 1)])\n"
     ]
    }
   ],
   "source": [
    "from chatterbot import ChatBot"
   ]
  },
  {
   "cell_type": "markdown",
   "metadata": {},
   "source": [
    "## Create the ChatBot"
   ]
  },
  {
   "cell_type": "code",
   "execution_count": 2,
   "metadata": {
    "collapsed": true
   },
   "outputs": [],
   "source": [
    "robot = ChatBot('Pal')"
   ]
  },
  {
   "cell_type": "markdown",
   "metadata": {},
   "source": [
    "## Train the ChatBot"
   ]
  },
  {
   "cell_type": "markdown",
   "metadata": {},
   "source": [
    "The ChatBot will be trained with the ListTrainer module in chatterbot"
   ]
  },
  {
   "cell_type": "code",
   "execution_count": 3,
   "metadata": {
    "collapsed": true
   },
   "outputs": [],
   "source": [
    "from chatterbot.trainers import ListTrainer"
   ]
  },
  {
   "cell_type": "markdown",
   "metadata": {},
   "source": [
    "We'll create its object by passing the Chatbot object we created earlier into the ListTrainer"
   ]
  },
  {
   "cell_type": "code",
   "execution_count": 4,
   "metadata": {
    "collapsed": true
   },
   "outputs": [],
   "source": [
    "trainer = ListTrainer(robot)"
   ]
  },
  {
   "cell_type": "markdown",
   "metadata": {},
   "source": [
    "Call the train() method that will have a list of sentences "
   ]
  },
  {
   "cell_type": "code",
   "execution_count": 6,
   "metadata": {},
   "outputs": [
    {
     "name": "stdout",
     "output_type": "stream",
     "text": [
      "List Trainer: [####################] 100%\n"
     ]
    }
   ],
   "source": [
    "trainer.train([\n",
    "'Hello',\n",
    "'Welcome!',\n",
    "'I need help',\n",
    "'Kindly fill me in on your complaint',\n",
    "'I placed an order since yesterday, i have not seen it',\n",
    "'oops, sorry about that... a lot of things could have caused that',\n",
    "'What?',\n",
    "'An order could be delayed because of lot of things, we will check into it right away.',\n",
    "'Okay Thanks',\n",
    "'Have a Good Day!'\n",
    "])"
   ]
  },
  {
   "cell_type": "markdown",
   "metadata": {},
   "source": [
    "## Test the ChatBot"
   ]
  },
  {
   "cell_type": "markdown",
   "metadata": {},
   "source": [
    "To test the ChatBot conversation skill, we will call the get_responses() method of Chatbot instance"
   ]
  },
  {
   "cell_type": "code",
   "execution_count": 7,
   "metadata": {},
   "outputs": [
    {
     "name": "stdout",
     "output_type": "stream",
     "text": [
      "Robot Response: Kindly fill me in on your complaint\n"
     ]
    }
   ],
   "source": [
    "response = robot.get_response('I need help')\n",
    "print(\"Robot Response:\", response)"
   ]
  },
  {
   "cell_type": "markdown",
   "metadata": {},
   "source": [
    "First, we ask for the user's name and output a statement that welcomes the user.\n",
    "\n",
    "A while loop will be created to run the ChatBot. Because we already have some data in our database, when the user gives a statement, appropriate responses will be given by our robot. But if we get a 'Goodbye' from the user, the program will stop running and the loop will end"
   ]
  },
  {
   "cell_type": "code",
   "execution_count": 8,
   "metadata": {},
   "outputs": [
    {
     "name": "stdout",
     "output_type": "stream",
     "text": [
      "Enter Your Name: Ade\n",
      "Welcome Ade! How may i help you?\n",
      "Ade:goodbye\n",
      "Robot: Bye - Ciao\n"
     ]
    }
   ],
   "source": [
    "name=input(\"Enter Your Name: \")\n",
    "print(\"Welcome \" + name + \"! How may i help you?\")\n",
    "\n",
    "while True:\n",
    "    request=input(name+':')\n",
    "    if request=='Goodbye' or request =='goodbye':\n",
    "        print('Robot: Bye - Ciao')\n",
    "        break\n",
    "    else:\n",
    "        response=robot.get_response(request)\n",
    "        print('Robot:',response)"
   ]
  },
  {
   "cell_type": "markdown",
   "metadata": {},
   "source": [
    "## Let's improve the Bot performance"
   ]
  },
  {
   "cell_type": "markdown",
   "metadata": {
    "collapsed": true
   },
   "source": [
    "ChatBot can be configure in such a way that it can tell the user if an input is not understood.\n",
    "\n",
    "To make our input statements more clean and remove noise that can interfere with the text analysis, Chatterbot has svseral built-in preprocessors that can help. Thus, the input statements becomes more readable and analyzable."
   ]
  },
  {
   "cell_type": "code",
   "execution_count": 9,
   "metadata": {
    "collapsed": true
   },
   "outputs": [],
   "source": [
    "robot = ChatBot('Pal', logic_adapters = [\n",
    "                 {\n",
    "                     'import_path': 'chatterbot.logic.BestMatch',\n",
    "                     'default_response': 'I am sorry, I do not understand. I am still learning',\n",
    "                     'maximum_similarity_threshold': 0.90\n",
    "                 }\n",
    "             ],\n",
    "             read_only = True,\n",
    "             preprocessors=['chatterbot.preprocessors.clean_whitespace',\n",
    "                            'chatterbot.preprocessors.unescape_html',\n",
    "                           'chatterbot.preprocessors.convert_to_ascii'])"
   ]
  },
  {
   "cell_type": "code",
   "execution_count": null,
   "metadata": {
    "collapsed": true
   },
   "outputs": [],
   "source": []
  }
 ],
 "metadata": {
  "kernelspec": {
   "display_name": "Python 3",
   "language": "python",
   "name": "python3"
  },
  "language_info": {
   "codemirror_mode": {
    "name": "ipython",
    "version": 3
   },
   "file_extension": ".py",
   "mimetype": "text/x-python",
   "name": "python",
   "nbconvert_exporter": "python",
   "pygments_lexer": "ipython3",
   "version": "3.6.1"
  }
 },
 "nbformat": 4,
 "nbformat_minor": 2
}
